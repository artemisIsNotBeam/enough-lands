{
  "cells": [
    {
      "cell_type": "markdown",
      "metadata": {
        "id": "view-in-github",
        "colab_type": "text"
      },
      "source": [
        "<a href=\"https://colab.research.google.com/github/artemisIsNotBeam/enough-lands/blob/main/HowManyLands.ipynb\" target=\"_parent\"><img src=\"https://colab.research.google.com/assets/colab-badge.svg\" alt=\"Open In Colab\"/></a>"
      ]
    },
    {
      "cell_type": "markdown",
      "metadata": {
        "id": "HGSBKnTCTEyd"
      },
      "source": [
        "**var declaration and imports**"
      ]
    },
    {
      "cell_type": "code",
      "execution_count": null,
      "metadata": {
        "colab": {
          "base_uri": "https://localhost:8080/"
        },
        "id": "-iwUNzn6TcR2",
        "outputId": "1ac4642c-bfbe-48c6-971b-244bc5d6cb94"
      },
      "outputs": [
        {
          "name": "stdout",
          "output_type": "stream",
          "text": [
            "Drive already mounted at /content/drive; to attempt to forcibly remount, call drive.mount(\"/content/drive\", force_remount=True).\n"
          ]
        }
      ],
      "source": [
        "from google.colab import drive\n",
        "drive.mount('/content/drive')"
      ]
    },
    {
      "cell_type": "code",
      "execution_count": null,
      "metadata": {
        "id": "puJy-yPc-ubv"
      },
      "outputs": [],
      "source": [
        "import pandas as pd\n",
        "import numpy as np\n",
        "from tensorflow import keras\n",
        "\n",
        "import tensorflow as tf\n",
        "import tensorflow_probability as tfp\n",
        "\n",
        "train = pd.read_csv(\"drive/MyDrive/lands.csv\")\n",
        "test = pd.read_csv(\"drive/MyDrive/testLands.csv\")\n",
        "\n",
        "train60 = pd.read_csv(\"drive/MyDrive/aiData/60cards.csv\")\n",
        "train100 = pd.read_csv(\"drive/MyDrive/aiData/comamnder.csv\")"
      ]
    },
    {
      "cell_type": "code",
      "execution_count": null,
      "metadata": {
        "id": "yxQS_ElTghcY"
      },
      "outputs": [],
      "source": [
        "#label is input\n",
        "#feature is output\n",
        "def get_features_labels(df):\n",
        "  #gets the 1st and 2nd column\n",
        "  features=df.values[:,[0,1]]\n",
        "  labels = df.values[:,2]\n",
        "\n",
        "  return features, labels\n",
        "\n",
        "trainFeatures, trainLabels= get_features_labels(train)\n",
        "testFeatures, testLabels= get_features_labels(test)\n",
        "\n",
        "trainFeatures = trainFeatures.astype('int')\n",
        "trainLabels = trainLabels.astype('int32')\n",
        "\n",
        "\n",
        "trainBig = pd.read_csv(\"drive/MyDrive/gmmTrain.csv\")\n",
        "\n",
        "def features_labelsNoCards(df):\n",
        "  features = df.values[:, np.arange(df.shape[1]) != 1]\n",
        "  labels = df.values[:,1]\n",
        "\n",
        "  return features, labels\n",
        "tf,tl = features_labelsNoCards(trainBig)\n",
        "\n",
        "tf60,tl60 = features_labelsNoCards(train60)\n",
        "tf100,tl100 = features_labelsNoCards(train100)"
      ]
    },
    {
      "cell_type": "code",
      "execution_count": null,
      "metadata": {
        "id": "FBj0gv-njp90"
      },
      "outputs": [],
      "source": [
        "import sklearn\n",
        "# let's pull our handy linear fitter from our 'prediction' toolbox: sklearn!\n",
        "from sklearn.linear_model import LinearRegression\n",
        "\n",
        "# set up our model\n",
        "linear60 = LinearRegression()\n",
        "\n",
        "# train the model\n",
        "linear60.fit(tf60,tl60)\n",
        "\n",
        "# test the model\n",
        "X_new = np.array([[75, 4, 0, 0, 0]])  # create a new data point\n",
        "y_pred = linear60.predict(X_new)  # predict the label for the new data point"
      ]
    },
    {
      "cell_type": "code",
      "execution_count": null,
      "metadata": {
        "colab": {
          "base_uri": "https://localhost:8080/",
          "height": 74
        },
        "id": "cv6W_eoVc6WY",
        "outputId": "29cb3e8d-78ca-4dc3-d90a-c873985148c8"
      },
      "outputs": [
        {
          "data": {
            "text/html": [
              "<style>#sk-container-id-1 {color: black;background-color: white;}#sk-container-id-1 pre{padding: 0;}#sk-container-id-1 div.sk-toggleable {background-color: white;}#sk-container-id-1 label.sk-toggleable__label {cursor: pointer;display: block;width: 100%;margin-bottom: 0;padding: 0.3em;box-sizing: border-box;text-align: center;}#sk-container-id-1 label.sk-toggleable__label-arrow:before {content: \"▸\";float: left;margin-right: 0.25em;color: #696969;}#sk-container-id-1 label.sk-toggleable__label-arrow:hover:before {color: black;}#sk-container-id-1 div.sk-estimator:hover label.sk-toggleable__label-arrow:before {color: black;}#sk-container-id-1 div.sk-toggleable__content {max-height: 0;max-width: 0;overflow: hidden;text-align: left;background-color: #f0f8ff;}#sk-container-id-1 div.sk-toggleable__content pre {margin: 0.2em;color: black;border-radius: 0.25em;background-color: #f0f8ff;}#sk-container-id-1 input.sk-toggleable__control:checked~div.sk-toggleable__content {max-height: 200px;max-width: 100%;overflow: auto;}#sk-container-id-1 input.sk-toggleable__control:checked~label.sk-toggleable__label-arrow:before {content: \"▾\";}#sk-container-id-1 div.sk-estimator input.sk-toggleable__control:checked~label.sk-toggleable__label {background-color: #d4ebff;}#sk-container-id-1 div.sk-label input.sk-toggleable__control:checked~label.sk-toggleable__label {background-color: #d4ebff;}#sk-container-id-1 input.sk-hidden--visually {border: 0;clip: rect(1px 1px 1px 1px);clip: rect(1px, 1px, 1px, 1px);height: 1px;margin: -1px;overflow: hidden;padding: 0;position: absolute;width: 1px;}#sk-container-id-1 div.sk-estimator {font-family: monospace;background-color: #f0f8ff;border: 1px dotted black;border-radius: 0.25em;box-sizing: border-box;margin-bottom: 0.5em;}#sk-container-id-1 div.sk-estimator:hover {background-color: #d4ebff;}#sk-container-id-1 div.sk-parallel-item::after {content: \"\";width: 100%;border-bottom: 1px solid gray;flex-grow: 1;}#sk-container-id-1 div.sk-label:hover label.sk-toggleable__label {background-color: #d4ebff;}#sk-container-id-1 div.sk-serial::before {content: \"\";position: absolute;border-left: 1px solid gray;box-sizing: border-box;top: 0;bottom: 0;left: 50%;z-index: 0;}#sk-container-id-1 div.sk-serial {display: flex;flex-direction: column;align-items: center;background-color: white;padding-right: 0.2em;padding-left: 0.2em;position: relative;}#sk-container-id-1 div.sk-item {position: relative;z-index: 1;}#sk-container-id-1 div.sk-parallel {display: flex;align-items: stretch;justify-content: center;background-color: white;position: relative;}#sk-container-id-1 div.sk-item::before, #sk-container-id-1 div.sk-parallel-item::before {content: \"\";position: absolute;border-left: 1px solid gray;box-sizing: border-box;top: 0;bottom: 0;left: 50%;z-index: -1;}#sk-container-id-1 div.sk-parallel-item {display: flex;flex-direction: column;z-index: 1;position: relative;background-color: white;}#sk-container-id-1 div.sk-parallel-item:first-child::after {align-self: flex-end;width: 50%;}#sk-container-id-1 div.sk-parallel-item:last-child::after {align-self: flex-start;width: 50%;}#sk-container-id-1 div.sk-parallel-item:only-child::after {width: 0;}#sk-container-id-1 div.sk-dashed-wrapped {border: 1px dashed gray;margin: 0 0.4em 0.5em 0.4em;box-sizing: border-box;padding-bottom: 0.4em;background-color: white;}#sk-container-id-1 div.sk-label label {font-family: monospace;font-weight: bold;display: inline-block;line-height: 1.2em;}#sk-container-id-1 div.sk-label-container {text-align: center;}#sk-container-id-1 div.sk-container {/* jupyter's `normalize.less` sets `[hidden] { display: none; }` but bootstrap.min.css set `[hidden] { display: none !important; }` so we also need the `!important` here to be able to override the default hidden behavior on the sphinx rendered scikit-learn.org. See: https://github.com/scikit-learn/scikit-learn/issues/21755 */display: inline-block !important;position: relative;}#sk-container-id-1 div.sk-text-repr-fallback {display: none;}</style><div id=\"sk-container-id-1\" class=\"sk-top-container\"><div class=\"sk-text-repr-fallback\"><pre>LinearRegression()</pre><b>In a Jupyter environment, please rerun this cell to show the HTML representation or trust the notebook. <br />On GitHub, the HTML representation is unable to render, please try loading this page with nbviewer.org.</b></div><div class=\"sk-container\" hidden><div class=\"sk-item\"><div class=\"sk-estimator sk-toggleable\"><input class=\"sk-toggleable__control sk-hidden--visually\" id=\"sk-estimator-id-1\" type=\"checkbox\" checked><label for=\"sk-estimator-id-1\" class=\"sk-toggleable__label sk-toggleable__label-arrow\">LinearRegression</label><div class=\"sk-toggleable__content\"><pre>LinearRegression()</pre></div></div></div></div></div>"
            ],
            "text/plain": [
              "LinearRegression()"
            ]
          },
          "execution_count": 11,
          "metadata": {},
          "output_type": "execute_result"
        }
      ],
      "source": [
        "linear100 = LinearRegression()\n",
        "linear100.fit(tf100,tl100)"
      ]
    },
    {
      "cell_type": "markdown",
      "metadata": {
        "id": "eDFq11ZRL4XX"
      },
      "source": [
        "**Prediction time!!!**\n",
        "How to actually use\n",
        "1. fill out cards in deck\n",
        "2. fill out toal mana value\n",
        "3. click run and see the print"
      ]
    },
    {
      "cell_type": "code",
      "execution_count": null,
      "metadata": {
        "colab": {
          "base_uri": "https://localhost:8080/"
        },
        "id": "_-A2dqTkL8Na",
        "outputId": "86ecf52b-784a-4f44-a86f-f491ec8b5129"
      },
      "outputs": [
        {
          "name": "stdout",
          "output_type": "stream",
          "text": [
            "(33, 33.392857142857125)\n"
          ]
        }
      ],
      "source": [
        "def use100(totmv,fp,rocks,dorks,quickmana):\n",
        "  input_data = np.array([[totmv, fp, rocks, dorks, 0]])\n",
        "  value = linear100.predict(input_data)[0]\n",
        "  rounded = round(value)\n",
        "  return rounded,value\n",
        "\n",
        "def use60(totmv,fp,rocks,dorks,quickmana):\n",
        "  input_data = np.array([[totmv, fp, rocks, dorks, 0]])\n",
        "  value = linear60.predict(input_data)[0]\n",
        "  rounded = round(value)\n",
        "  return rounded,value\n",
        "\n",
        "print(use100(132,2,0,5,0))"
      ]
    },
    {
      "cell_type": "markdown",
      "metadata": {
        "id": "Ib0rflBCmIcY"
      },
      "source": [
        "**flask!**"
      ]
    },
    {
      "cell_type": "code",
      "execution_count": null,
      "metadata": {
        "colab": {
          "base_uri": "https://localhost:8080/"
        },
        "id": "h_kXP9Aunsfa",
        "outputId": "fad98917-9a88-432e-dbf5-ad5a4919eb27"
      },
      "outputs": [
        {
          "name": "stdout",
          "output_type": "stream",
          "text": [
            "Collecting pyngrok\n",
            "  Downloading pyngrok-7.0.0.tar.gz (718 kB)\n",
            "\u001b[2K     \u001b[90m━━━━━━━━━━━━━━━━━━━━━━━━━━━━━━━━━━━━━━━\u001b[0m \u001b[32m718.7/718.7 kB\u001b[0m \u001b[31m7.5 MB/s\u001b[0m eta \u001b[36m0:00:00\u001b[0m\n",
            "\u001b[?25h  Preparing metadata (setup.py) ... \u001b[?25l\u001b[?25hdone\n",
            "Requirement already satisfied: PyYAML in /usr/local/lib/python3.10/dist-packages (from pyngrok) (6.0.1)\n",
            "Building wheels for collected packages: pyngrok\n",
            "  Building wheel for pyngrok (setup.py) ... \u001b[?25l\u001b[?25hdone\n",
            "  Created wheel for pyngrok: filename=pyngrok-7.0.0-py3-none-any.whl size=21129 sha256=ab1bcf39c2a214b14ef6b2fc224fbed5219b19af08fd39c11d92b3b4cd6e5a8b\n",
            "  Stored in directory: /root/.cache/pip/wheels/60/29/7b/f64332aa7e5e88fbd56d4002185ae22dcdc83b35b3d1c2cbf5\n",
            "Successfully built pyngrok\n",
            "Installing collected packages: pyngrok\n",
            "Successfully installed pyngrok-7.0.0\n",
            "/bin/bash: line 1: /ngrok: No such file or directory\n"
          ]
        }
      ],
      "source": [
        "!pip install pyngrok\n",
        "!/ngrok authtoken PASTE_YOUR_AUTHTOKEN_HERE"
      ]
    },
    {
      "cell_type": "code",
      "execution_count": null,
      "metadata": {
        "colab": {
          "background_save": true,
          "base_uri": "https://localhost:8080/"
        },
        "id": "xhUYWnmDmLem",
        "outputId": "f3fcb451-b333-40a0-ac09-d21972a48c7d"
      },
      "outputs": [
        {
          "name": "stdout",
          "output_type": "stream",
          "text": [
            ""
          ]
        },
        {
          "name": "stderr",
          "output_type": "stream",
          "text": [
            "WARNING:pyngrok.process.ngrok:t=2023-10-07T19:26:51+0000 lvl=warn msg=\"ngrok config file found at legacy location, move to XDG location\" xdg_path=/root/.config/ngrok/ngrok.yml legacy_path=/root/.ngrok2/ngrok.yml\n"
          ]
        },
        {
          "name": "stdout",
          "output_type": "stream",
          "text": [
            "To acess the link click https://850a-35-185-193-185.ngrok-free.app\n",
            " * Serving Flask app '__main__'\n",
            " * Debug mode: off\n"
          ]
        },
        {
          "name": "stderr",
          "output_type": "stream",
          "text": [
            "INFO:werkzeug:\u001b[31m\u001b[1mWARNING: This is a development server. Do not use it in a production deployment. Use a production WSGI server instead.\u001b[0m\n",
            " * Running on http://127.0.0.1:5000\n",
            "INFO:werkzeug:\u001b[33mPress CTRL+C to quit\u001b[0m\n",
            "INFO:werkzeug:127.0.0.1 - - [07/Oct/2023 19:43:05] \"GET / HTTP/1.1\" 200 -\n",
            "INFO:werkzeug:127.0.0.1 - - [07/Oct/2023 19:43:06] \"GET /static/styles.css HTTP/1.1\" 200 -\n",
            "INFO:werkzeug:127.0.0.1 - - [07/Oct/2023 19:43:07] \"\u001b[33mGET /favicon.ico HTTP/1.1\u001b[0m\" 404 -\n",
            "INFO:werkzeug:127.0.0.1 - - [07/Oct/2023 19:43:41] \"POST /predict HTTP/1.1\" 200 -\n",
            "INFO:werkzeug:127.0.0.1 - - [07/Oct/2023 19:43:42] \"\u001b[36mGET /static/styles.css HTTP/1.1\u001b[0m\" 304 -\n",
            "INFO:werkzeug:127.0.0.1 - - [07/Oct/2023 19:43:56] \"GET / HTTP/1.1\" 200 -\n",
            "INFO:werkzeug:127.0.0.1 - - [07/Oct/2023 19:43:56] \"\u001b[36mGET /static/styles.css HTTP/1.1\u001b[0m\" 304 -\n",
            "INFO:werkzeug:127.0.0.1 - - [07/Oct/2023 19:44:07] \"POST /predict HTTP/1.1\" 200 -\n",
            "INFO:werkzeug:127.0.0.1 - - [07/Oct/2023 19:44:07] \"\u001b[36mGET /static/styles.css HTTP/1.1\u001b[0m\" 304 -\n"
          ]
        }
      ],
      "source": [
        "from flask import Flask, render_template,request,url_for,redirect\n",
        "from pyngrok import ngrok\n",
        "\n",
        "\n",
        "#SET ngrok auth token\n",
        "ngrok.set_auth_token(\"\")\n",
        "publicUrl = ngrok.connect(5000).public_url\n",
        "app = Flask(__name__, template_folder='drive/MyDrive/website/templates', static_folder=\"drive/MyDrive/website/static\")\n",
        "\n",
        "@app.route(\"/\")\n",
        "def home():\n",
        "  return render_template(\"home.html\")\n",
        "\n",
        "@app.route(\"/predict\", methods= ['POST', 'GET'])\n",
        "def predict():\n",
        "  output = request.form.to_dict()\n",
        "  if len(output)==0:\n",
        "    return render_template(\"goBack.html\")\n",
        "\n",
        "  select_value = request.form.get('select_field')\n",
        "  check=[\"mv\",\"freespells\",\"rocks\",\"dorks\",\"fastmana\"]\n",
        "  mv = float(output[\"mv\"])\n",
        "  fs = float(output[\"freespells\"])\n",
        "  rocks=float(output[\"rocks\"])\n",
        "  dorks=float(output[\"dorks\"])\n",
        "  quickmana = float(output[\"fastmana\"])\n",
        "\n",
        "  if select_value == \"60\":\n",
        "    should,exact = use60(mv,fs,rocks,dorks,quickmana)\n",
        "  else:\n",
        "    should,exact = use100(mv,fs,rocks,dorks,quickmana)\n",
        "  return render_template(\"predict.html\",should = should, exact = exact)\n",
        "\n",
        "@app.route(\"/guide\")\n",
        "def guide():\n",
        "  return render_template(\"guide.html\")\n",
        "print(f\"To acess the link click {publicUrl}\")\n",
        "app.run()"
      ]
    }
  ],
  "metadata": {
    "colab": {
      "provenance": [],
      "authorship_tag": "ABX9TyNjNEbV4hMS698AlIBodcNn",
      "include_colab_link": true
    },
    "kernelspec": {
      "display_name": "Python 3",
      "name": "python3"
    },
    "language_info": {
      "name": "python"
    }
  },
  "nbformat": 4,
  "nbformat_minor": 0
}